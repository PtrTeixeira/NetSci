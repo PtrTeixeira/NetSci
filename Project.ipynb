{
 "cells": [
  {
   "cell_type": "markdown",
   "metadata": {},
   "source": [
    "Open the data file, read data and create directed graph."
   ]
  },
  {
   "cell_type": "code",
   "execution_count": 23,
   "metadata": {
    "collapsed": false
   },
   "outputs": [],
   "source": [
    "%matplotlib inline\n",
    "import json\n",
    "import networkx as nx\n",
    "import matplotlib.pyplot as plt\n",
    "import numpy as np\n",
    "import scipy.optimize as op"
   ]
  },
  {
   "cell_type": "code",
   "execution_count": 19,
   "metadata": {
    "collapsed": true
   },
   "outputs": [],
   "source": [
    "with open('data.json', 'r') as fo:\n",
    "    jsdata = json.load(fo)"
   ]
  },
  {
   "cell_type": "code",
   "execution_count": 20,
   "metadata": {
    "collapsed": false
   },
   "outputs": [
    {
     "name": "stdout",
     "output_type": "stream",
     "text": [
      "Total number of nodes in the graph: 11961\n"
     ]
    }
   ],
   "source": [
    "G = nx.DiGraph()\n",
    "G.add_edges_from([(d,m['name']) for m in jsdata for d in m['dependencies']])\n",
    "print('Total number of nodes in the graph:', G.number_of_nodes())"
   ]
  },
  {
   "cell_type": "markdown",
   "metadata": {},
   "source": [
    "In the graph, there is a giant component and several small disconnected components. We consider only the giant component. Here we extract the giant component."
   ]
  },
  {
   "cell_type": "code",
   "execution_count": 21,
   "metadata": {
    "collapsed": false
   },
   "outputs": [
    {
     "name": "stdout",
     "output_type": "stream",
     "text": [
      "Size of the giant component: 11412\n"
     ]
    }
   ],
   "source": [
    "G = max(nx.weakly_connected_component_subgraphs(G), key=len)\n",
    "N = G.number_of_nodes()\n",
    "print('Size of the giant component:', N)\n",
    "k_in_list = sorted(G.in_degree().values(), reverse=True)\n",
    "k_out_list = sorted(G.out_degree().values(), reverse=True)"
   ]
  },
  {
   "cell_type": "markdown",
   "metadata": {},
   "source": [
    "Functions which are used for calculations are shown in the next cell. "
   ]
  },
  {
   "cell_type": "code",
   "execution_count": 46,
   "metadata": {
    "collapsed": true
   },
   "outputs": [],
   "source": [
    "def lnlike(theta, x, y, yerr):\n",
    "    C, p, lnf = theta\n",
    "    model = C * x**p\n",
    "    inv_sigma2 = 1.0/(yerr**2 + model**2*np.exp(2*lnf))\n",
    "    return -0.5*(np.sum((y-model)**2*inv_sigma2 - np.log(inv_sigma2)))\n",
    "\n",
    "def create_distribution(k_list, nbins):\n",
    "    hist, be = np.histogram(k_list, bins=nbins)\n",
    "    k = [(be[i] + be[i+1])/2 for i in range(len(hist))]\n",
    "    hist_l = []\n",
    "    k_l = []\n",
    "\n",
    "    for i in range(len(hist)):  # Remove empty bins\n",
    "        if hist[i] != 0:\n",
    "            hist_l.append(hist[i])\n",
    "            k_l.append(k[i])\n",
    "\n",
    "    hist = hist_l\n",
    "    k = k_l\n",
    "    pk = [f/N for f in hist]\n",
    "    return k, pk\n",
    "\n",
    "def calculate_fit(x, y):\n",
    "    C_true=1.0\n",
    "    p_true=-2.0\n",
    "    f_true=1.5\n",
    "    \n",
    "    yerr = np.zeros(len(y))  # We do not have y error\n",
    "\n",
    "    nll = lambda *args: -lnlike(*args)\n",
    "    result = op.minimize(nll, [C_true, p_true, np.log(f_true)], args=(x, y, yerr))\n",
    "    C_ml, p_ml, lnf_ml = result[\"x\"]\n",
    "    return C_ml, p_ml"
   ]
  },
  {
   "cell_type": "code",
   "execution_count": 47,
   "metadata": {
    "collapsed": false
   },
   "outputs": [],
   "source": [
    "k_in, pk_in = create_distribution(k_in_list, 1000)\n",
    "k_out, pk_out = create_distribution(k_out_list, 2000)"
   ]
  },
  {
   "cell_type": "markdown",
   "metadata": {},
   "source": [
    "Here we make the fit for in and out degrees using maximum likelihood method. Our error in y coordinate is 0."
   ]
  },
  {
   "cell_type": "code",
   "execution_count": 52,
   "metadata": {
    "collapsed": false
   },
   "outputs": [],
   "source": [
    "#C_in, p_in = calculate_fit(k_in, pk_in)\n",
    "#C_out, p_out = calculate_fit(k_out, pk_out)\n",
    "#yin = [C_in* k**p_in for k in k_in] \n",
    "#yout = [C_out* k**p_out for k in k_out]"
   ]
  },
  {
   "cell_type": "code",
   "execution_count": 33,
   "metadata": {
    "collapsed": false
   },
   "outputs": [
    {
     "data": {
      "image/png": "[encoded data removed]",
      "text/plain": [
       "<matplotlib.figure.Figure at 0x10c9f5a58>"
      ]
     },
     "metadata": {},
     "output_type": "display_data"
    },
    {
     "data": {
      "image/png": "[encoded data removed]",
      "text/plain": [
       "<matplotlib.figure.Figure at 0x10c9fbe48>"
      ]
     },
     "metadata": {},
     "output_type": "display_data"
    }
   ],
   "source": [
    "plt.figure()\n",
    "plt.scatter(k_in, pk_in)\n",
    "plt.xlabel('k')\n",
    "plt.ylabel('pk')\n",
    "plt.title('In degree distribution')\n",
    "\n",
    "plt.figure()\n",
    "plt.yscale('log', nonposy='clip')\n",
    "plt.xscale('log', nonposy='clip')\n",
    "plt.scatter(k_in, pk_in)\n",
    "plt.xlabel('k')\n",
    "plt.ylabel('pk')\n",
    "plt.title('In degree distribution in log log scale')\n",
    "plt.show()"
   ]
  },
  {
   "cell_type": "code",
   "execution_count": 45,
   "metadata": {
    "collapsed": false
   },
   "outputs": [
    {
     "data": {
      "image/png": "[encoded data removed]",
      "text/plain": [
       "<matplotlib.figure.Figure at 0x10c24a0b8>"
      ]
     },
     "metadata": {},
     "output_type": "display_data"
    },
    {
     "data": {
      "image/png": "[encoded data removed]",
      "text/plain": [
       "<matplotlib.figure.Figure at 0x10e262f98>"
      ]
     },
     "metadata": {},
     "output_type": "display_data"
    }
   ],
   "source": [
    "plt.figure()\n",
    "plt.scatter(k_out, pk_out)\n",
    "plt.xlabel('k')\n",
    "plt.ylabel('pk')\n",
    "plt.title('Out degree distribution')\n",
    "\n",
    "plt.figure()\n",
    "plt.yscale('log', nonposy='clip')\n",
    "plt.xscale('log', nonposy='clip')\n",
    "plt.scatter(k_out, pk_out)\n",
    "plt.xlabel('k')\n",
    "plt.ylabel('pk')\n",
    "plt.title('Out degree distribution in log log scale')\n",
    "plt.show()"
   ]
  },
  {
   "cell_type": "code",
   "execution_count": null,
   "metadata": {
    "collapsed": true
   },
   "outputs": [],
   "source": []
  }
 ],
 "metadata": {
  "kernelspec": {
   "display_name": "Python [Root]",
   "language": "python",
   "name": "Python [Root]"
  },
  "language_info": {
   "codemirror_mode": {
    "name": "ipython",
    "version": 3
   },
   "file_extension": ".py",
   "mimetype": "text/x-python",
   "name": "python",
   "nbconvert_exporter": "python",
   "pygments_lexer": "ipython3",
   "version": "3.5.2"
  }
 },
 "nbformat": 4,
 "nbformat_minor": 0
}
